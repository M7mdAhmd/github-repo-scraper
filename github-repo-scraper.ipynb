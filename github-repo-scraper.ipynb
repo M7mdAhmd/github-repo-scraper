{
 "cells": [
  {
   "cell_type": "code",
   "execution_count": 1,
   "id": "5bf8fc17",
   "metadata": {},
   "outputs": [
    {
     "name": "stdout",
     "output_type": "stream",
     "text": [
      "Requirement already satisfied: beautifulsoup4 in c:\\users\\bestway\\appdata\\local\\programs\\python\\python312\\lib\\site-packages (4.12.3)\n",
      "Requirement already satisfied: soupsieve>1.2 in c:\\users\\bestway\\appdata\\local\\programs\\python\\python312\\lib\\site-packages (from beautifulsoup4) (2.6)\n"
     ]
    },
    {
     "name": "stderr",
     "output_type": "stream",
     "text": [
      "\n",
      "[notice] A new release of pip is available: 25.1.1 -> 25.2\n",
      "[notice] To update, run: python.exe -m pip install --upgrade pip\n"
     ]
    }
   ],
   "source": [
    "!pip install beautifulsoup4"
   ]
  },
  {
   "cell_type": "code",
   "execution_count": 2,
   "id": "8dce96e0",
   "metadata": {},
   "outputs": [],
   "source": [
    "from bs4 import BeautifulSoup\n",
    "import requests\n",
    "import lxml\n",
    "import csv\n",
    "import os"
   ]
  },
  {
   "cell_type": "code",
   "execution_count": 3,
   "id": "b00a2a7b",
   "metadata": {},
   "outputs": [],
   "source": [
    "url = 'https://github.com/M7mdAhmd?tab=repositories'\n",
    "raw = requests.get(url).content\n",
    "page = BeautifulSoup(raw, 'lxml')\n",
    "\n",
    "repos = page.find_all('div', {'class':'col-10 col-lg-9 d-inline-block'})\n",
    "details = []\n",
    "for i, repo in enumerate(repos):\n",
    "    a = repo.find('a')\n",
    "    name = a.text.strip()\n",
    "    link = ('https://github.com'+a.get('href')).strip()\n",
    "    last_updated = repo.find('relative-time').text.strip()\n",
    "    repo_details = {}\n",
    "    repo_details['Repo Name'] = name\n",
    "    repo_details['Link'] = link\n",
    "    repo_details['Last Update Date'] = last_updated\n",
    "    details.append(repo_details)"
   ]
  },
  {
   "cell_type": "code",
   "execution_count": 4,
   "id": "fd8e9a8f",
   "metadata": {},
   "outputs": [],
   "source": [
    "path = 'data.csv'\n",
    "column_names = details[0].keys()\n",
    "with open(path, mode='w', newline='') as file:\n",
    "    writer = csv.DictWriter(file, fieldnames = column_names)\n",
    "    writer.writeheader()\n",
    "    writer.writerows(details)"
   ]
  }
 ],
 "metadata": {
  "kernelspec": {
   "display_name": "Python 3",
   "language": "python",
   "name": "python3"
  },
  "language_info": {
   "codemirror_mode": {
    "name": "ipython",
    "version": 3
   },
   "file_extension": ".py",
   "mimetype": "text/x-python",
   "name": "python",
   "nbconvert_exporter": "python",
   "pygments_lexer": "ipython3",
   "version": "3.12.4"
  }
 },
 "nbformat": 4,
 "nbformat_minor": 5
}
